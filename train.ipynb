{
 "cells": [
  {
   "cell_type": "code",
   "execution_count": 1,
   "metadata": {},
   "outputs": [],
   "source": [
    "import tensorflow as tf\n",
    "from tensorflow.keras.preprocessing import image_dataset_from_directory\n",
    "from tensorflow.keras import layers\n",
    "from tensorflow.keras import Sequential\n",
    "import numpy as np\n",
    "from tensorflow.keras.layers import Dense, Input, MaxPooling2D, Dropout, Flatten\n",
    "from tensorflow.keras import metrics\n",
    "from tensorflow.keras.preprocessing.image import ImageDataGenerator\n",
    "%matplotlib inline\n",
    "import matplotlib.pyplot as plt\n",
    "from tensorflow import keras"
   ]
  },
  {
   "cell_type": "code",
   "execution_count": 2,
   "metadata": {},
   "outputs": [],
   "source": [
    "img_height = 400\n",
    "img_width = 400\n",
    "batch_size = 32\n",
    "epochs = 30"
   ]
  },
  {
   "cell_type": "code",
   "execution_count": 3,
   "metadata": {},
   "outputs": [
    {
     "name": "stdout",
     "output_type": "stream",
     "text": [
      "Found 7630 images belonging to 2 classes.\n",
      "Found 954 images belonging to 2 classes.\n",
      "Found 953 images belonging to 2 classes.\n"
     ]
    }
   ],
   "source": [
    "datagen = ImageDataGenerator(rescale=1./255, validation_split=0.50)\n",
    "\n",
    "train_generator = datagen.flow_from_directory('data/train',\n",
    "                                                    target_size=(img_height, img_width),\n",
    "                                                    batch_size=batch_size,\n",
    "                                                    class_mode='binary')\n",
    "\n",
    "valid_generator = datagen.flow_from_directory('data/test',\n",
    "                                                    target_size=(img_height, img_width),\n",
    "                                                    batch_size=batch_size,\n",
    "                                                    class_mode='binary',\n",
    "                                                    subset='training')\n",
    "\n",
    "test_generator = datagen.flow_from_directory('data/test',\n",
    "                                                    target_size=(img_height, img_width),\n",
    "                                                    batch_size=batch_size,\n",
    "                                                    class_mode='binary',\n",
    "                                                    subset='validation')\n"
   ]
  },
  {
   "cell_type": "code",
   "execution_count": 4,
   "metadata": {
    "scrolled": true
   },
   "outputs": [],
   "source": [
    "# pretrained된 VGG16모델을 가져온다.\n",
    "# https://keras.io/api/applications/vgg/#vgg16-function\n",
    "pretrained_model = tf.keras.applications.VGG16(\n",
    "    include_top=False,\n",
    "    weights=\"imagenet\",\n",
    "    input_tensor=None,\n",
    "    input_shape=(img_height, img_width, 3),\n",
    "    pooling=None\n",
    ")"
   ]
  },
  {
   "cell_type": "code",
   "execution_count": 5,
   "metadata": {},
   "outputs": [],
   "source": [
    "pretrained_model.trainable = False    # VGG16의 가중치들은 학습이 이루어지지 않도록 한다\n",
    "\n",
    "model = Sequential()\n",
    "\n",
    "# CAM을 위해 하단에 다른 레이어를 추가해야하기 때문에 VGG16의 맨 마지막 레이어(pooling layer)를 제외하고 나머지 레이어를 model에 추가해준다\n",
    "for layer in pretrained_model.layers[:-1]:\n",
    "    model.add(layer)\n",
    "\n",
    "# CAM을 구현하기 위해 Conv2D, GlobalAveragePolling2D, Dense 레이어를 추가해준다\n",
    "model.add(tf.keras.layers.Conv2D(filters=1024, kernel_size=(3, 3), padding='same', activation='relu'))\n",
    "model.add(tf.keras.layers.GlobalAveragePooling2D())\n",
    "model.add(tf.keras.layers.Dense(1, activation='sigmoid'))\n",
    "\n",
    "callback = tf.keras.callbacks.EarlyStopping(monitor='loss', patience=3)\n",
    "\n",
    "metrics = [keras.metrics.TruePositives(name='tp'),\n",
    "           keras.metrics.FalsePositives(name='fp'),\n",
    "           keras.metrics.TrueNegatives(name='tn'),\n",
    "           keras.metrics.FalseNegatives(name='fn'),\n",
    "           keras.metrics.BinaryAccuracy(name='accuracy'),\n",
    "           keras.metrics.Precision(name='precision'),\n",
    "           keras.metrics.Recall(name='recall'),\n",
    "           keras.metrics.AUC(name='auc')]\n",
    "\n",
    "model.compile(loss='binary_crossentropy',\n",
    "              optimizer='adam',\n",
    "              metrics=metrics)\n"
   ]
  },
  {
   "cell_type": "code",
   "execution_count": 6,
   "metadata": {
    "scrolled": true
   },
   "outputs": [
    {
     "name": "stdout",
     "output_type": "stream",
     "text": [
      "Model: \"sequential\"\n",
      "_________________________________________________________________\n",
      "Layer (type)                 Output Shape              Param #   \n",
      "=================================================================\n",
      "block1_conv1 (Conv2D)        (None, 400, 400, 64)      1792      \n",
      "_________________________________________________________________\n",
      "block1_conv2 (Conv2D)        (None, 400, 400, 64)      36928     \n",
      "_________________________________________________________________\n",
      "block1_pool (MaxPooling2D)   (None, 200, 200, 64)      0         \n",
      "_________________________________________________________________\n",
      "block2_conv1 (Conv2D)        (None, 200, 200, 128)     73856     \n",
      "_________________________________________________________________\n",
      "block2_conv2 (Conv2D)        (None, 200, 200, 128)     147584    \n",
      "_________________________________________________________________\n",
      "block2_pool (MaxPooling2D)   (None, 100, 100, 128)     0         \n",
      "_________________________________________________________________\n",
      "block3_conv1 (Conv2D)        (None, 100, 100, 256)     295168    \n",
      "_________________________________________________________________\n",
      "block3_conv2 (Conv2D)        (None, 100, 100, 256)     590080    \n",
      "_________________________________________________________________\n",
      "block3_conv3 (Conv2D)        (None, 100, 100, 256)     590080    \n",
      "_________________________________________________________________\n",
      "block3_pool (MaxPooling2D)   (None, 50, 50, 256)       0         \n",
      "_________________________________________________________________\n",
      "block4_conv1 (Conv2D)        (None, 50, 50, 512)       1180160   \n",
      "_________________________________________________________________\n",
      "block4_conv2 (Conv2D)        (None, 50, 50, 512)       2359808   \n",
      "_________________________________________________________________\n",
      "block4_conv3 (Conv2D)        (None, 50, 50, 512)       2359808   \n",
      "_________________________________________________________________\n",
      "block4_pool (MaxPooling2D)   (None, 25, 25, 512)       0         \n",
      "_________________________________________________________________\n",
      "block5_conv1 (Conv2D)        (None, 25, 25, 512)       2359808   \n",
      "_________________________________________________________________\n",
      "block5_conv2 (Conv2D)        (None, 25, 25, 512)       2359808   \n",
      "_________________________________________________________________\n",
      "block5_conv3 (Conv2D)        (None, 25, 25, 512)       2359808   \n",
      "_________________________________________________________________\n",
      "conv2d (Conv2D)              (None, 25, 25, 1024)      4719616   \n",
      "_________________________________________________________________\n",
      "global_average_pooling2d (Gl (None, 1024)              0         \n",
      "_________________________________________________________________\n",
      "dense (Dense)                (None, 1)                 1025      \n",
      "=================================================================\n",
      "Total params: 19,435,329\n",
      "Trainable params: 4,720,641\n",
      "Non-trainable params: 14,714,688\n",
      "_________________________________________________________________\n"
     ]
    }
   ],
   "source": [
    "model.summary()"
   ]
  },
  {
   "cell_type": "code",
   "execution_count": 7,
   "metadata": {
    "scrolled": true
   },
   "outputs": [
    {
     "name": "stdout",
     "output_type": "stream",
     "text": [
      "Epoch 1/30\n",
      "238/238 [==============================] - 182s 766ms/step - loss: 0.5203 - tp: 3410.0000 - fp: 947.0000 - tn: 2276.0000 - fn: 965.0000 - accuracy: 0.7484 - precision: 0.7826 - recall: 0.7794 - auc: 0.8248 - val_loss: 0.4418 - val_tp: 511.0000 - val_fp: 168.0000 - val_tn: 223.0000 - val_fn: 26.0000 - val_accuracy: 0.7909 - val_precision: 0.7526 - val_recall: 0.9516 - val_auc: 0.9043\n",
      "Epoch 2/30\n",
      "238/238 [==============================] - 182s 765ms/step - loss: 0.3526 - tp: 3743.0000 - fp: 549.0000 - tn: 2675.0000 - fn: 631.0000 - accuracy: 0.8447 - precision: 0.8721 - recall: 0.8557 - auc: 0.9223 - val_loss: 0.3221 - val_tp: 466.0000 - val_fp: 41.0000 - val_tn: 349.0000 - val_fn: 72.0000 - val_accuracy: 0.8782 - val_precision: 0.9191 - val_recall: 0.8662 - val_auc: 0.9413\n",
      "Epoch 3/30\n",
      "238/238 [==============================] - 183s 768ms/step - loss: 0.2866 - tp: 3906.0000 - fp: 406.0000 - tn: 2813.0000 - fn: 473.0000 - accuracy: 0.8843 - precision: 0.9058 - recall: 0.8920 - auc: 0.9500 - val_loss: 0.2808 - val_tp: 489.0000 - val_fp: 42.0000 - val_tn: 349.0000 - val_fn: 48.0000 - val_accuracy: 0.9030 - val_precision: 0.9209 - val_recall: 0.9106 - val_auc: 0.9537\n",
      "Epoch 4/30\n",
      "238/238 [==============================] - 181s 759ms/step - loss: 0.2717 - tp: 3937.0000 - fp: 393.0000 - tn: 2825.0000 - fn: 443.0000 - accuracy: 0.8900 - precision: 0.9092 - recall: 0.8989 - auc: 0.9540 - val_loss: 0.3046 - val_tp: 513.0000 - val_fp: 71.0000 - val_tn: 321.0000 - val_fn: 23.0000 - val_accuracy: 0.8987 - val_precision: 0.8784 - val_recall: 0.9571 - val_auc: 0.9538\n",
      "Epoch 5/30\n",
      "238/238 [==============================] - 182s 765ms/step - loss: 0.2465 - tp: 3982.0000 - fp: 326.0000 - tn: 2897.0000 - fn: 393.0000 - accuracy: 0.9054 - precision: 0.9243 - recall: 0.9102 - auc: 0.9619 - val_loss: 0.2374 - val_tp: 492.0000 - val_fp: 34.0000 - val_tn: 359.0000 - val_fn: 43.0000 - val_accuracy: 0.9170 - val_precision: 0.9354 - val_recall: 0.9196 - val_auc: 0.9638\n",
      "Epoch 6/30\n",
      "238/238 [==============================] - 183s 768ms/step - loss: 0.2350 - tp: 4010.0000 - fp: 289.0000 - tn: 2932.0000 - fn: 367.0000 - accuracy: 0.9137 - precision: 0.9328 - recall: 0.9162 - auc: 0.9651 - val_loss: 0.2624 - val_tp: 515.0000 - val_fp: 65.0000 - val_tn: 329.0000 - val_fn: 19.0000 - val_accuracy: 0.9095 - val_precision: 0.8879 - val_recall: 0.9644 - val_auc: 0.9665\n",
      "Epoch 7/30\n",
      "238/238 [==============================] - 183s 769ms/step - loss: 0.2266 - tp: 4024.0000 - fp: 278.0000 - tn: 2941.0000 - fn: 355.0000 - accuracy: 0.9167 - precision: 0.9354 - recall: 0.9189 - auc: 0.9677 - val_loss: 0.2439 - val_tp: 500.0000 - val_fp: 42.0000 - val_tn: 353.0000 - val_fn: 33.0000 - val_accuracy: 0.9192 - val_precision: 0.9225 - val_recall: 0.9381 - val_auc: 0.9627\n",
      "Epoch 8/30\n",
      "238/238 [==============================] - 184s 772ms/step - loss: 0.2100 - tp: 4042.0000 - fp: 253.0000 - tn: 2968.0000 - fn: 335.0000 - accuracy: 0.9226 - precision: 0.9411 - recall: 0.9235 - auc: 0.9720 - val_loss: 0.2209 - val_tp: 500.0000 - val_fp: 28.0000 - val_tn: 364.0000 - val_fn: 36.0000 - val_accuracy: 0.9310 - val_precision: 0.9470 - val_recall: 0.9328 - val_auc: 0.9681\n",
      "Epoch 9/30\n",
      "238/238 [==============================] - 184s 774ms/step - loss: 0.2051 - tp: 4064.0000 - fp: 245.0000 - tn: 2975.0000 - fn: 314.0000 - accuracy: 0.9264 - precision: 0.9431 - recall: 0.9283 - auc: 0.9733 - val_loss: 0.2113 - val_tp: 512.0000 - val_fp: 33.0000 - val_tn: 355.0000 - val_fn: 28.0000 - val_accuracy: 0.9343 - val_precision: 0.9394 - val_recall: 0.9481 - val_auc: 0.9709\n",
      "Epoch 10/30\n",
      "238/238 [==============================] - 183s 768ms/step - loss: 0.1859 - tp: 4103.0000 - fp: 206.0000 - tn: 3016.0000 - fn: 273.0000 - accuracy: 0.9370 - precision: 0.9522 - recall: 0.9376 - auc: 0.9771 - val_loss: 0.2007 - val_tp: 499.0000 - val_fp: 26.0000 - val_tn: 366.0000 - val_fn: 37.0000 - val_accuracy: 0.9321 - val_precision: 0.9505 - val_recall: 0.9310 - val_auc: 0.9728\n",
      "Epoch 11/30\n",
      "238/238 [==============================] - 186s 781ms/step - loss: 0.1843 - tp: 4108.0000 - fp: 222.0000 - tn: 3000.0000 - fn: 268.0000 - accuracy: 0.9355 - precision: 0.9487 - recall: 0.9388 - auc: 0.9779 - val_loss: 0.2371 - val_tp: 466.0000 - val_fp: 11.0000 - val_tn: 379.0000 - val_fn: 72.0000 - val_accuracy: 0.9106 - val_precision: 0.9769 - val_recall: 0.8662 - val_auc: 0.9739\n",
      "Epoch 12/30\n",
      "238/238 [==============================] - 184s 775ms/step - loss: 0.1850 - tp: 4104.0000 - fp: 220.0000 - tn: 3004.0000 - fn: 270.0000 - accuracy: 0.9355 - precision: 0.9491 - recall: 0.9383 - auc: 0.9776 - val_loss: 0.1848 - val_tp: 513.0000 - val_fp: 34.0000 - val_tn: 358.0000 - val_fn: 23.0000 - val_accuracy: 0.9386 - val_precision: 0.9378 - val_recall: 0.9571 - val_auc: 0.9773\n",
      "Epoch 13/30\n",
      "238/238 [==============================] - 185s 778ms/step - loss: 0.1742 - tp: 4132.0000 - fp: 199.0000 - tn: 3020.0000 - fn: 247.0000 - accuracy: 0.9413 - precision: 0.9541 - recall: 0.9436 - auc: 0.9798 - val_loss: 0.1758 - val_tp: 503.0000 - val_fp: 19.0000 - val_tn: 372.0000 - val_fn: 34.0000 - val_accuracy: 0.9429 - val_precision: 0.9636 - val_recall: 0.9367 - val_auc: 0.9779\n",
      "Epoch 14/30\n",
      "238/238 [==============================] - 184s 774ms/step - loss: 0.1732 - tp: 4114.0000 - fp: 193.0000 - tn: 3030.0000 - fn: 261.0000 - accuracy: 0.9402 - precision: 0.9552 - recall: 0.9403 - auc: 0.9801 - val_loss: 0.2570 - val_tp: 522.0000 - val_fp: 82.0000 - val_tn: 310.0000 - val_fn: 14.0000 - val_accuracy: 0.8966 - val_precision: 0.8642 - val_recall: 0.9739 - val_auc: 0.9767\n",
      "Epoch 15/30\n",
      "238/238 [==============================] - 185s 777ms/step - loss: 0.1538 - tp: 4139.0000 - fp: 168.0000 - tn: 3059.0000 - fn: 232.0000 - accuracy: 0.9474 - precision: 0.9610 - recall: 0.9469 - auc: 0.9845 - val_loss: 0.2268 - val_tp: 472.0000 - val_fp: 10.0000 - val_tn: 381.0000 - val_fn: 65.0000 - val_accuracy: 0.9192 - val_precision: 0.9793 - val_recall: 0.8790 - val_auc: 0.9753\n",
      "Epoch 16/30\n",
      "238/238 [==============================] - 183s 769ms/step - loss: 0.1513 - tp: 4157.0000 - fp: 165.0000 - tn: 3056.0000 - fn: 220.0000 - accuracy: 0.9493 - precision: 0.9618 - recall: 0.9497 - auc: 0.9846 - val_loss: 0.1623 - val_tp: 510.0000 - val_fp: 16.0000 - val_tn: 374.0000 - val_fn: 28.0000 - val_accuracy: 0.9526 - val_precision: 0.9696 - val_recall: 0.9480 - val_auc: 0.9799\n",
      "Epoch 17/30\n",
      "238/238 [==============================] - 185s 777ms/step - loss: 0.1593 - tp: 4141.0000 - fp: 182.0000 - tn: 3040.0000 - fn: 235.0000 - accuracy: 0.9451 - precision: 0.9579 - recall: 0.9463 - auc: 0.9833 - val_loss: 0.1653 - val_tp: 503.0000 - val_fp: 15.0000 - val_tn: 379.0000 - val_fn: 31.0000 - val_accuracy: 0.9504 - val_precision: 0.9710 - val_recall: 0.9419 - val_auc: 0.9789\n",
      "Epoch 18/30\n",
      "238/238 [==============================] - 185s 779ms/step - loss: 0.1373 - tp: 4190.0000 - fp: 139.0000 - tn: 3086.0000 - fn: 183.0000 - accuracy: 0.9576 - precision: 0.9679 - recall: 0.9582 - auc: 0.9868 - val_loss: 0.1719 - val_tp: 492.0000 - val_fp: 10.0000 - val_tn: 382.0000 - val_fn: 44.0000 - val_accuracy: 0.9418 - val_precision: 0.9801 - val_recall: 0.9179 - val_auc: 0.9816\n",
      "Epoch 19/30\n",
      "238/238 [==============================] - 185s 779ms/step - loss: 0.1376 - tp: 4184.0000 - fp: 148.0000 - tn: 3078.0000 - fn: 188.0000 - accuracy: 0.9558 - precision: 0.9658 - recall: 0.9570 - auc: 0.9871 - val_loss: 0.1664 - val_tp: 516.0000 - val_fp: 24.0000 - val_tn: 367.0000 - val_fn: 21.0000 - val_accuracy: 0.9515 - val_precision: 0.9556 - val_recall: 0.9609 - val_auc: 0.9807\n",
      "Epoch 20/30\n",
      "238/238 [==============================] - 184s 773ms/step - loss: 0.1326 - tp: 4189.0000 - fp: 151.0000 - tn: 3074.0000 - fn: 184.0000 - accuracy: 0.9559 - precision: 0.9652 - recall: 0.9579 - auc: 0.9879 - val_loss: 0.2206 - val_tp: 474.0000 - val_fp: 3.0000 - val_tn: 384.0000 - val_fn: 67.0000 - val_accuracy: 0.9246 - val_precision: 0.9937 - val_recall: 0.8762 - val_auc: 0.9823\n",
      "Epoch 21/30\n",
      "238/238 [==============================] - 185s 778ms/step - loss: 0.1280 - tp: 4196.0000 - fp: 135.0000 - tn: 3089.0000 - fn: 178.0000 - accuracy: 0.9588 - precision: 0.9688 - recall: 0.9593 - auc: 0.9887 - val_loss: 0.1383 - val_tp: 514.0000 - val_fp: 16.0000 - val_tn: 379.0000 - val_fn: 19.0000 - val_accuracy: 0.9623 - val_precision: 0.9698 - val_recall: 0.9644 - val_auc: 0.9848\n"
     ]
    },
    {
     "name": "stdout",
     "output_type": "stream",
     "text": [
      "Epoch 22/30\n",
      "238/238 [==============================] - 184s 772ms/step - loss: 0.1250 - tp: 4204.0000 - fp: 147.0000 - tn: 3075.0000 - fn: 172.0000 - accuracy: 0.9580 - precision: 0.9662 - recall: 0.9607 - auc: 0.9891 - val_loss: 0.1400 - val_tp: 508.0000 - val_fp: 12.0000 - val_tn: 382.0000 - val_fn: 26.0000 - val_accuracy: 0.9591 - val_precision: 0.9769 - val_recall: 0.9513 - val_auc: 0.9852\n",
      "Epoch 23/30\n",
      "238/238 [==============================] - 187s 787ms/step - loss: 0.1220 - tp: 4211.0000 - fp: 126.0000 - tn: 3094.0000 - fn: 167.0000 - accuracy: 0.9614 - precision: 0.9709 - recall: 0.9619 - auc: 0.9895 - val_loss: 0.2205 - val_tp: 459.0000 - val_fp: 3.0000 - val_tn: 389.0000 - val_fn: 77.0000 - val_accuracy: 0.9138 - val_precision: 0.9935 - val_recall: 0.8563 - val_auc: 0.9837\n",
      "Epoch 24/30\n",
      "238/238 [==============================] - 186s 780ms/step - loss: 0.1154 - tp: 4223.0000 - fp: 133.0000 - tn: 3091.0000 - fn: 151.0000 - accuracy: 0.9626 - precision: 0.9695 - recall: 0.9655 - auc: 0.9906 - val_loss: 0.1771 - val_tp: 524.0000 - val_fp: 47.0000 - val_tn: 346.0000 - val_fn: 11.0000 - val_accuracy: 0.9375 - val_precision: 0.9177 - val_recall: 0.9794 - val_auc: 0.9842\n",
      "Epoch 25/30\n",
      "238/238 [==============================] - 184s 775ms/step - loss: 0.1194 - tp: 4229.0000 - fp: 138.0000 - tn: 3078.0000 - fn: 153.0000 - accuracy: 0.9617 - precision: 0.9684 - recall: 0.9651 - auc: 0.9901 - val_loss: 0.1403 - val_tp: 502.0000 - val_fp: 9.0000 - val_tn: 384.0000 - val_fn: 33.0000 - val_accuracy: 0.9547 - val_precision: 0.9824 - val_recall: 0.9383 - val_auc: 0.9872\n",
      "Epoch 26/30\n",
      "238/238 [==============================] - 185s 777ms/step - loss: 0.1029 - tp: 4230.0000 - fp: 102.0000 - tn: 3124.0000 - fn: 142.0000 - accuracy: 0.9679 - precision: 0.9765 - recall: 0.9675 - auc: 0.9921 - val_loss: 0.1651 - val_tp: 523.0000 - val_fp: 57.0000 - val_tn: 334.0000 - val_fn: 14.0000 - val_accuracy: 0.9235 - val_precision: 0.9017 - val_recall: 0.9739 - val_auc: 0.9904\n",
      "Epoch 27/30\n",
      "238/238 [==============================] - 187s 784ms/step - loss: 0.1043 - tp: 4235.0000 - fp: 117.0000 - tn: 3108.0000 - fn: 138.0000 - accuracy: 0.9664 - precision: 0.9731 - recall: 0.9684 - auc: 0.9924 - val_loss: 0.1157 - val_tp: 518.0000 - val_fp: 18.0000 - val_tn: 375.0000 - val_fn: 17.0000 - val_accuracy: 0.9623 - val_precision: 0.9664 - val_recall: 0.9682 - val_auc: 0.9901\n",
      "Epoch 28/30\n",
      "238/238 [==============================] - 186s 783ms/step - loss: 0.0986 - tp: 4249.0000 - fp: 110.0000 - tn: 3111.0000 - fn: 128.0000 - accuracy: 0.9687 - precision: 0.9748 - recall: 0.9708 - auc: 0.9931 - val_loss: 0.1518 - val_tp: 529.0000 - val_fp: 45.0000 - val_tn: 345.0000 - val_fn: 9.0000 - val_accuracy: 0.9418 - val_precision: 0.9216 - val_recall: 0.9833 - val_auc: 0.9889\n",
      "Epoch 29/30\n",
      "238/238 [==============================] - 187s 784ms/step - loss: 0.1005 - tp: 4236.0000 - fp: 115.0000 - tn: 3105.0000 - fn: 142.0000 - accuracy: 0.9662 - precision: 0.9736 - recall: 0.9676 - auc: 0.9931 - val_loss: 0.1201 - val_tp: 520.0000 - val_fp: 20.0000 - val_tn: 371.0000 - val_fn: 17.0000 - val_accuracy: 0.9601 - val_precision: 0.9630 - val_recall: 0.9683 - val_auc: 0.9893\n",
      "Epoch 30/30\n",
      "238/238 [==============================] - 185s 778ms/step - loss: 0.0979 - tp: 4243.0000 - fp: 98.0000 - tn: 3123.0000 - fn: 134.0000 - accuracy: 0.9695 - precision: 0.9774 - recall: 0.9694 - auc: 0.9930 - val_loss: 0.1114 - val_tp: 517.0000 - val_fp: 15.0000 - val_tn: 382.0000 - val_fn: 14.0000 - val_accuracy: 0.9688 - val_precision: 0.9718 - val_recall: 0.9736 - val_auc: 0.9904\n"
     ]
    }
   ],
   "source": [
    "history = model.fit(\n",
    "  train_generator,\n",
    "  steps_per_epoch=train_generator.samples//batch_size,\n",
    "  validation_data=valid_generator,\n",
    "  validation_steps=valid_generator.samples//batch_size,\n",
    "  epochs=epochs,\n",
    "  callbacks=[callback]\n",
    ")"
   ]
  },
  {
   "cell_type": "code",
   "execution_count": 8,
   "metadata": {},
   "outputs": [
    {
     "name": "stdout",
     "output_type": "stream",
     "text": [
      "30/30 [==============================] - 24s 785ms/step - loss: 0.0398 - tp: 547.0000 - fp: 4.0000 - tn: 400.0000 - fn: 2.0000 - accuracy: 0.9937 - precision: 0.9927 - recall: 0.9964 - auc: 0.9996\n"
     ]
    },
    {
     "data": {
      "text/plain": [
       "[0.03978939354419708,\n",
       " 547.0,\n",
       " 4.0,\n",
       " 400.0,\n",
       " 2.0,\n",
       " 0.993704080581665,\n",
       " 0.9927404522895813,\n",
       " 0.9963570237159729,\n",
       " 0.9996370673179626]"
      ]
     },
     "execution_count": 8,
     "metadata": {},
     "output_type": "execute_result"
    }
   ],
   "source": [
    "model.evaluate(test_generator)"
   ]
  },
  {
   "cell_type": "code",
   "execution_count": 10,
   "metadata": {},
   "outputs": [
    {
     "data": {
      "image/png": "[encoded data removed]",
      "text/plain": [
       "<Figure size 432x288 with 2 Axes>"
      ]
     },
     "metadata": {},
     "output_type": "display_data"
    }
   ],
   "source": [
    "fig, loss_ax = plt.subplots()\n",
    "acc_ax = loss_ax.twinx()\n",
    "\n",
    "loss_ax.plot(history.history['loss'], 'y', label='train loss')\n",
    "loss_ax.plot(history.history['val_loss'], 'r', label='val loss')\n",
    "loss_ax.set_xlabel('epoch')\n",
    "loss_ax.set_ylabel('loss')\n",
    "loss_ax.legend(loc='upper left')\n",
    "\n",
    "acc_ax.plot(history.history['accuracy'], 'b', label='train acc')\n",
    "acc_ax.plot(history.history['val_accuracy'], 'g', label='val acc')\n",
    "acc_ax.set_ylabel('accuracy')\n",
    "acc_ax.legend(loc='upper right')\n",
    "\n",
    "plt.show()"
   ]
  },
  {
   "cell_type": "markdown",
   "metadata": {},
   "source": [
    "| model | test_precision | test_recall | test_auc | test_accuracy |\n",
    "|---|\n",
    "| VGG16 | 0.9927 | 0.9964 | 0.9996 | 0.9937 |"
   ]
  },
  {
   "cell_type": "markdown",
   "metadata": {},
   "source": [
    "| Hypermeters | Values |\n",
    "|---|\n",
    "| Epoch | 30 |\n",
    "| Bath Size | 32 |\n",
    "| Train Validation Test ratio | 8:1:1 |\n",
    "| Optimizer | Adam |\n",
    "| Input size | (400, 400, 3)"
   ]
  },
  {
   "cell_type": "markdown",
   "metadata": {},
   "source": [
    "|  |  |\n",
    "|---|\n",
    "| TP=547 | FN=2 |\n",
    "| FP=4 | TN=400 |"
   ]
  },
  {
   "cell_type": "code",
   "execution_count": 9,
   "metadata": {},
   "outputs": [
    {
     "ename": "IndexError",
     "evalue": "index 1 is out of bounds for axis 1 with size 1",
     "output_type": "error",
     "traceback": [
      "\u001b[0;31m---------------------------------------------------------------------------\u001b[0m",
      "\u001b[0;31mIndexError\u001b[0m                                Traceback (most recent call last)",
      "\u001b[0;32m<ipython-input-9-567bcaab239d>\u001b[0m in \u001b[0;36m<module>\u001b[0;34m()\u001b[0m\n\u001b[1;32m     16\u001b[0m \u001b[0;34m\u001b[0m\u001b[0m\n\u001b[1;32m     17\u001b[0m \u001b[0mcam\u001b[0m \u001b[0;34m=\u001b[0m \u001b[0mnp\u001b[0m\u001b[0;34m.\u001b[0m\u001b[0mzeros\u001b[0m\u001b[0;34m(\u001b[0m\u001b[0mdtype\u001b[0m \u001b[0;34m=\u001b[0m \u001b[0mnp\u001b[0m\u001b[0;34m.\u001b[0m\u001b[0mfloat32\u001b[0m\u001b[0;34m,\u001b[0m \u001b[0mshape\u001b[0m \u001b[0;34m=\u001b[0m \u001b[0mconv_outputs\u001b[0m\u001b[0;34m.\u001b[0m\u001b[0mshape\u001b[0m\u001b[0;34m[\u001b[0m\u001b[0;36m0\u001b[0m\u001b[0;34m:\u001b[0m\u001b[0;36m2\u001b[0m\u001b[0;34m]\u001b[0m\u001b[0;34m)\u001b[0m\u001b[0;34m\u001b[0m\u001b[0;34m\u001b[0m\u001b[0m\n\u001b[0;32m---> 18\u001b[0;31m \u001b[0;32mfor\u001b[0m \u001b[0mi\u001b[0m\u001b[0;34m,\u001b[0m \u001b[0mw\u001b[0m \u001b[0;32min\u001b[0m \u001b[0menumerate\u001b[0m\u001b[0;34m(\u001b[0m\u001b[0mclass_weights\u001b[0m\u001b[0;34m[\u001b[0m\u001b[0;34m:\u001b[0m\u001b[0;34m,\u001b[0m \u001b[0;36m1\u001b[0m\u001b[0;34m]\u001b[0m\u001b[0;34m)\u001b[0m\u001b[0;34m:\u001b[0m\u001b[0;34m\u001b[0m\u001b[0;34m\u001b[0m\u001b[0m\n\u001b[0m\u001b[1;32m     19\u001b[0m         \u001b[0mcam\u001b[0m \u001b[0;34m+=\u001b[0m \u001b[0mw\u001b[0m \u001b[0;34m*\u001b[0m \u001b[0mconv_outputs\u001b[0m\u001b[0;34m[\u001b[0m\u001b[0;34m:\u001b[0m\u001b[0;34m,\u001b[0m \u001b[0;34m:\u001b[0m\u001b[0;34m,\u001b[0m \u001b[0mi\u001b[0m\u001b[0;34m]\u001b[0m    \u001b[0;31m# 마지막 레이어의 각 가중치와 Conv2D의 결과를 곱하여 누적하여 가산 -> CAM 구현\u001b[0m\u001b[0;34m\u001b[0m\u001b[0;34m\u001b[0m\u001b[0m\n",
      "\u001b[0;31mIndexError\u001b[0m: index 1 is out of bounds for axis 1 with size 1"
     ]
    }
   ],
   "source": [
    "# 참고\n",
    "# https://dryjelly.tistory.com/147\n",
    "# https://github.com/jacobgil/keras-cam/blob/master/cam.py\n",
    "\n",
    "import matplotlib.pyplot as plt\n",
    "import numpy as np\n",
    "import cv2\n",
    "%matplotlib inline\n",
    "\n",
    "get_output = tf.keras.backend.function([model.layers[0].input],\n",
    "                                       [model.layers[-3].output, model.layers[-1].output])    # 이미지 입력을 받아 model의 마지막에 추가한 Conv2D와 Dense 레이어를 출력하는 모델\n",
    "[conv_outputs, predictions] = get_output(np.array([valid_generator[0][0][0]]))                # 이미지 입력\n",
    "conv_outputs = conv_outputs[0, :, :, :]\n",
    "\n",
    "class_weights = model.layers[-1].get_weights()[0]    # model의 맨 마지막 레이어인 Dense 레이어의 weight를 가져온다\n",
    "\n",
    "cam = np.zeros(dtype = np.float32, shape = conv_outputs.shape[0:2])\n",
    "for i, w in enumerate(class_weights[:, 1]):\n",
    "        cam += w * conv_outputs[:, :, i]    # 마지막 레이어의 각 가중치와 Conv2D의 결과를 곱하여 누적하여 가산 -> CAM 구현"
   ]
  },
  {
   "cell_type": "code",
   "execution_count": null,
   "metadata": {},
   "outputs": [],
   "source": [
    "# 결과 이미지를 보기 좋게 가공\n",
    "\n",
    "# CAM 이미지의 값 범위를 0 부터 255까지로 맞추고\n",
    "# 이미지 크기를 원본 데이터와 일치하도록 resize한다\n",
    "heatmap = cam\n",
    "heatmap = heatmap / (np.max(heatmap) - np.min(heatmap)) * 255.9\n",
    "heatmap = np.uint8(heatmap - np.min(heatmap))\n",
    "heatmap = cv2.resize(heatmap, (img_height, img_width))\n",
    "heatmap = cv2.applyColorMap(heatmap, cv2.COLORMAP_JET)\n",
    "\n",
    "# 원본 이미지도 비슷하게 처리\n",
    "origin_img = valid_generator[0][0][0]\n",
    "origin_img = origin_img / (np.max(origin_img) - np.min(origin_img)) * 255.9\n",
    "origin_img = np.uint8(origin_img - np.min(origin_img))\n",
    "\n",
    "# 원본 이미지와 CAM 합성\n",
    "a = 0.6\n",
    "dst = cv2.addWeighted(origin_img, a, heatmap, 1 - a, 0)\n",
    "plt.imshow(dst)"
   ]
  },
  {
   "cell_type": "code",
   "execution_count": null,
   "metadata": {},
   "outputs": [],
   "source": []
  }
 ],
 "metadata": {
  "kernelspec": {
   "display_name": "Python [conda env:tensorflow2_p36] *",
   "language": "python",
   "name": "conda-env-tensorflow2_p36-py"
  },
  "varInspector": {
   "cols": {
    "lenName": 16,
    "lenType": 16,
    "lenVar": 40
   },
   "kernels_config": {
    "python": {
     "delete_cmd_postfix": "",
     "delete_cmd_prefix": "del ",
     "library": "var_list.py",
     "varRefreshCmd": "print(var_dic_list())"
    },
    "r": {
     "delete_cmd_postfix": ") ",
     "delete_cmd_prefix": "rm(",
     "library": "var_list.r",
     "varRefreshCmd": "cat(var_dic_list()) "
    }
   },
   "types_to_exclude": [
    "module",
    "function",
    "builtin_function_or_method",
    "instance",
    "_Feature"
   ],
   "window_display": false
  }
 },
 "nbformat": 4,
 "nbformat_minor": 2
}
