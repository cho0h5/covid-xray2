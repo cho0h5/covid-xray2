{
 "cells": [
  {
   "cell_type": "code",
   "execution_count": 1,
   "metadata": {},
   "outputs": [],
   "source": [
    "import tensorflow as tf\n",
    "from tensorflow.keras.preprocessing import image_dataset_from_directory\n",
    "from tensorflow.keras import layers\n",
    "from tensorflow.keras import Sequential\n",
    "import numpy as np\n",
    "from tensorflow.keras.layers import Dense, Input, MaxPooling2D, Dropout, Flatten\n",
    "from tensorflow.keras import metrics\n",
    "from tensorflow.keras.preprocessing.image import ImageDataGenerator"
   ]
  },
  {
   "cell_type": "code",
   "execution_count": 2,
   "metadata": {},
   "outputs": [],
   "source": [
    "img_height = 150\n",
    "img_width = 150\n",
    "batch_size = 32\n",
    "epochs = 3"
   ]
  },
  {
   "cell_type": "code",
   "execution_count": 3,
   "metadata": {},
   "outputs": [
    {
     "name": "stdout",
     "output_type": "stream",
     "text": [
      "Found 7631 images belonging to 2 classes.\n",
      "Found 1907 images belonging to 2 classes.\n"
     ]
    }
   ],
   "source": [
    "datagen = ImageDataGenerator(rescale=1./255)\n",
    "\n",
    "train_generator = datagen.flow_from_directory('data/train',\n",
    "                                                    target_size=(img_height, img_width),\n",
    "                                                    batch_size=batch_size,\n",
    "                                                    class_mode='categorical')\n",
    "\n",
    "valid_generator = datagen.flow_from_directory('data/test',\n",
    "                                                    target_size=(img_height, img_width),\n",
    "                                                    batch_size=batch_size,\n",
    "                                                    class_mode='categorical')\n"
   ]
  },
  {
   "cell_type": "code",
   "execution_count": 4,
   "metadata": {
    "scrolled": true
   },
   "outputs": [],
   "source": [
    "# for image_batch, labels_batch in train_generator:\n",
    "#     print(image_batch.shape)\n",
    "#     print(labels_batch.shape)\n",
    "#     break"
   ]
  },
  {
   "cell_type": "code",
   "execution_count": 5,
   "metadata": {},
   "outputs": [],
   "source": [
    "pretrained_model = tf.keras.applications.InceptionV3(\n",
    "    include_top=False,\n",
    "    weights=\"imagenet\",\n",
    "    input_tensor=None,\n",
    "    input_shape=(img_height, img_width, 3),\n",
    "    pooling=None,\n",
    "    classes=1000,\n",
    ")\n",
    "\n",
    "model = Sequential()\n",
    "model.add(pretrained_model)\n",
    "model.add(MaxPooling2D())\n",
    "model.add(Dropout(0.2))\n",
    "model.add(Flatten())\n",
    "model.add(Dense(2, activation='softmax'))\n",
    "\n",
    "model.compile(loss='binary_crossentropy',\n",
    "              optimizer='adam',\n",
    "              metrics=[metrics.AUC(), 'accuracy'])\n"
   ]
  },
  {
   "cell_type": "code",
   "execution_count": 6,
   "metadata": {},
   "outputs": [
    {
     "name": "stdout",
     "output_type": "stream",
     "text": [
      "Model: \"sequential\"\n",
      "_________________________________________________________________\n",
      "Layer (type)                 Output Shape              Param #   \n",
      "=================================================================\n",
      "inception_v3 (Functional)    (None, 3, 3, 2048)        21802784  \n",
      "_________________________________________________________________\n",
      "max_pooling2d_4 (MaxPooling2 (None, 1, 1, 2048)        0         \n",
      "_________________________________________________________________\n",
      "dropout (Dropout)            (None, 1, 1, 2048)        0         \n",
      "_________________________________________________________________\n",
      "flatten (Flatten)            (None, 2048)              0         \n",
      "_________________________________________________________________\n",
      "dense (Dense)                (None, 2)                 4098      \n",
      "=================================================================\n",
      "Total params: 21,806,882\n",
      "Trainable params: 21,772,450\n",
      "Non-trainable params: 34,432\n",
      "_________________________________________________________________\n"
     ]
    }
   ],
   "source": [
    "model.summary()"
   ]
  },
  {
   "cell_type": "code",
   "execution_count": 7,
   "metadata": {},
   "outputs": [
    {
     "name": "stdout",
     "output_type": "stream",
     "text": [
      "Epoch 1/20\n",
      "238/238 [==============================] - 158s 664ms/step - loss: 0.4148 - auc: 0.9247 - accuracy: 0.8675 - val_loss: 1.3824 - val_auc: 0.7680 - val_accuracy: 0.6049\n",
      "Epoch 2/20\n",
      "238/238 [==============================] - 155s 651ms/step - loss: 0.2009 - auc: 0.9744 - accuracy: 0.9283 - val_loss: 0.9719 - val_auc: 0.8422 - val_accuracy: 0.7378\n",
      "Epoch 3/20\n",
      "238/238 [==============================] - 155s 651ms/step - loss: 0.1758 - auc: 0.9788 - accuracy: 0.9426 - val_loss: 1.2065 - val_auc: 0.8126 - val_accuracy: 0.7399\n",
      "Epoch 4/20\n",
      "238/238 [==============================] - 156s 655ms/step - loss: 0.2304 - auc: 0.9671 - accuracy: 0.9103 - val_loss: 0.3308 - val_auc: 0.9404 - val_accuracy: 0.8739\n",
      "Epoch 5/20\n",
      "238/238 [==============================] - 156s 657ms/step - loss: 0.1705 - auc: 0.9814 - accuracy: 0.9372 - val_loss: 0.4169 - val_auc: 0.9295 - val_accuracy: 0.8581\n",
      "Epoch 6/20\n",
      "238/238 [==============================] - 155s 653ms/step - loss: 0.2584 - auc: 0.9602 - accuracy: 0.8989 - val_loss: 0.4866 - val_auc: 0.9055 - val_accuracy: 0.8231\n",
      "Epoch 7/20\n",
      "238/238 [==============================] - 155s 653ms/step - loss: 0.1804 - auc: 0.9791 - accuracy: 0.9342 - val_loss: 0.3575 - val_auc: 0.9487 - val_accuracy: 0.8798\n",
      "Epoch 8/20\n",
      "238/238 [==============================] - 155s 652ms/step - loss: 0.1525 - auc: 0.9843 - accuracy: 0.9462 - val_loss: 0.3236 - val_auc: 0.9489 - val_accuracy: 0.8575\n",
      "Epoch 9/20\n",
      "238/238 [==============================] - 156s 654ms/step - loss: 0.1288 - auc: 0.9885 - accuracy: 0.9542 - val_loss: 0.5650 - val_auc: 0.8709 - val_accuracy: 0.7934\n",
      "Epoch 10/20\n",
      "238/238 [==============================] - 156s 655ms/step - loss: 0.1223 - auc: 0.9891 - accuracy: 0.9613 - val_loss: 0.4007 - val_auc: 0.9412 - val_accuracy: 0.8602\n",
      "Epoch 11/20\n",
      "238/238 [==============================] - 155s 651ms/step - loss: 0.0969 - auc: 0.9932 - accuracy: 0.9676 - val_loss: 0.4418 - val_auc: 0.9356 - val_accuracy: 0.8432\n",
      "Epoch 12/20\n",
      "238/238 [==============================] - 155s 653ms/step - loss: 0.0799 - auc: 0.9948 - accuracy: 0.9746 - val_loss: 0.0581 - val_auc: 0.9980 - val_accuracy: 0.9788\n",
      "Epoch 13/20\n",
      "238/238 [==============================] - 156s 656ms/step - loss: 0.0802 - auc: 0.9954 - accuracy: 0.9738 - val_loss: 1.7240 - val_auc: 0.7838 - val_accuracy: 0.7452\n",
      "Epoch 14/20\n",
      "238/238 [==============================] - 156s 654ms/step - loss: 0.0963 - auc: 0.9931 - accuracy: 0.9678 - val_loss: 0.6639 - val_auc: 0.9304 - val_accuracy: 0.8798\n",
      "Epoch 15/20\n",
      "238/238 [==============================] - 156s 654ms/step - loss: 0.0792 - auc: 0.9952 - accuracy: 0.9733 - val_loss: 0.0724 - val_auc: 0.9964 - val_accuracy: 0.9709\n",
      "Epoch 16/20\n",
      "238/238 [==============================] - 155s 651ms/step - loss: 0.0615 - auc: 0.9972 - accuracy: 0.9778 - val_loss: 0.7556 - val_auc: 0.8889 - val_accuracy: 0.8109\n",
      "Epoch 17/20\n",
      "238/238 [==============================] - 155s 651ms/step - loss: 0.0581 - auc: 0.9974 - accuracy: 0.9783 - val_loss: 0.1017 - val_auc: 0.9940 - val_accuracy: 0.9571\n",
      "Epoch 18/20\n",
      "238/238 [==============================] - 155s 650ms/step - loss: 0.0515 - auc: 0.9978 - accuracy: 0.9817 - val_loss: 0.0531 - val_auc: 0.9976 - val_accuracy: 0.9825\n",
      "Epoch 19/20\n",
      "238/238 [==============================] - 155s 651ms/step - loss: 0.0492 - auc: 0.9978 - accuracy: 0.9829 - val_loss: 0.3768 - val_auc: 0.9578 - val_accuracy: 0.8724\n",
      "Epoch 20/20\n",
      "238/238 [==============================] - 157s 659ms/step - loss: 0.0545 - auc: 0.9976 - accuracy: 0.9799 - val_loss: 0.1856 - val_auc: 0.9791 - val_accuracy: 0.9264\n"
     ]
    }
   ],
   "source": [
    "history = model.fit(\n",
    "  train_generator,\n",
    "  steps_per_epoch=train_generator.samples//batch_size,\n",
    "  validation_data=valid_generator,\n",
    "  validation_steps=valid_generator.samples//batch_size,\n",
    "  epochs=epochs\n",
    ")"
   ]
  },
  {
   "cell_type": "code",
   "execution_count": null,
   "metadata": {},
   "outputs": [],
   "source": []
  }
 ],
 "metadata": {
  "kernelspec": {
   "display_name": "Python 3",
   "language": "python",
   "name": "python3"
  },
  "language_info": {
   "codemirror_mode": {
    "name": "ipython",
    "version": 3
   },
   "file_extension": ".py",
   "mimetype": "text/x-python",
   "name": "python",
   "nbconvert_exporter": "python",
   "pygments_lexer": "ipython3",
   "version": "3.6.10"
  },
  "varInspector": {
   "cols": {
    "lenName": 16,
    "lenType": 16,
    "lenVar": 40
   },
   "kernels_config": {
    "python": {
     "delete_cmd_postfix": "",
     "delete_cmd_prefix": "del ",
     "library": "var_list.py",
     "varRefreshCmd": "print(var_dic_list())"
    },
    "r": {
     "delete_cmd_postfix": ") ",
     "delete_cmd_prefix": "rm(",
     "library": "var_list.r",
     "varRefreshCmd": "cat(var_dic_list()) "
    }
   },
   "types_to_exclude": [
    "module",
    "function",
    "builtin_function_or_method",
    "instance",
    "_Feature"
   ],
   "window_display": false
  }
 },
 "nbformat": 4,
 "nbformat_minor": 2
}
