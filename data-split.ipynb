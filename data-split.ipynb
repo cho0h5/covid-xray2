{
 "cells": [
  {
   "cell_type": "code",
   "execution_count": 1,
   "metadata": {
    "ExecuteTime": {
     "end_time": "2020-11-24T08:58:17.330409Z",
     "start_time": "2020-11-24T08:58:16.987843Z"
    }
   },
   "outputs": [],
   "source": [
    "import os\n",
    "\n",
    "data_path = 'X-ray/'"
   ]
  },
  {
   "cell_type": "code",
   "execution_count": 2,
   "metadata": {
    "ExecuteTime": {
     "end_time": "2020-11-24T08:58:17.336275Z",
     "start_time": "2020-11-24T08:58:17.332383Z"
    }
   },
   "outputs": [],
   "source": [
    "import random\n",
    "\n",
    "positive_file_path = data_path + 'COVID/'\n",
    "positive_file_list = os.listdir(positive_file_path)\n",
    "random.shuffle(positive_file_list)\n",
    "\n",
    "negative_file_path = data_path + 'Non-COVID/'\n",
    "negative_file_list = os.listdir(negative_file_path)\n",
    "random.shuffle(negative_file_list)"
   ]
  },
  {
   "cell_type": "code",
   "execution_count": 3,
   "metadata": {
    "ExecuteTime": {
     "end_time": "2020-11-24T08:58:19.438962Z",
     "start_time": "2020-11-24T08:58:19.368923Z"
    }
   },
   "outputs": [
    {
     "name": "stdout",
     "output_type": "stream",
     "text": [
      "make new directory\n"
     ]
    }
   ],
   "source": [
    "# preprocessed_image 폴더 초기화\n",
    "\n",
    "import shutil\n",
    "import os\n",
    "\n",
    "save_path = \"data/\"\n",
    " \n",
    "try:\n",
    "    if os.path.isdir(save_path):\n",
    "        shutil.rmtree(save_path)\n",
    "        print(\"remove directory\")\n",
    "        \n",
    "    os.makedirs(save_path + \"train/COVID/\")\n",
    "    os.makedirs(save_path + \"train/Non-COVID/\")\n",
    "    os.makedirs(save_path + \"test/COVID/\")\n",
    "    os.makedirs(save_path + \"test/Non-COVID/\")\n",
    "    print(\"make new directory\")\n",
    "    \n",
    "except OSError as e:\n",
    "    print(e)\n",
    "    raise"
   ]
  },
  {
   "cell_type": "code",
   "execution_count": 4,
   "metadata": {
    "ExecuteTime": {
     "end_time": "2020-11-24T08:59:01.976198Z",
     "start_time": "2020-11-24T08:58:19.440732Z"
    }
   },
   "outputs": [],
   "source": [
    "# 모든 이미지 전처리하여 preprocessed_data/ 폴더에 저장\n",
    "\n",
    "for image_name in positive_file_list[:int(len(positive_file_list) * 0.8)]:\n",
    "    shutil.copy(positive_file_path + image_name, save_path + \"train/COVID/\" + image_name)\n",
    "    \n",
    "for image_name in negative_file_list[:int(len(negative_file_list) * 0.8)]:\n",
    "    shutil.copy(negative_file_path + image_name, save_path + \"train/Non-COVID/\" + image_name)\n",
    "\n",
    "for image_name in positive_file_list[:int(len(positive_file_list) * 0.2)]:\n",
    "    shutil.copy(positive_file_path + image_name, save_path + \"test/COVID/\" + image_name)\n",
    "    \n",
    "for image_name in negative_file_list[:int(len(negative_file_list) * 0.2)]:\n",
    "    shutil.copy(negative_file_path + image_name, save_path + \"test/Non-COVID/\" + image_name)"
   ]
  },
  {
   "cell_type": "code",
   "execution_count": null,
   "metadata": {},
   "outputs": [],
   "source": []
  }
 ],
 "metadata": {
  "kernelspec": {
   "display_name": "Python 3",
   "language": "python",
   "name": "python3"
  },
  "language_info": {
   "codemirror_mode": {
    "name": "ipython",
    "version": 3
   },
   "file_extension": ".py",
   "mimetype": "text/x-python",
   "name": "python",
   "nbconvert_exporter": "python",
   "pygments_lexer": "ipython3",
   "version": "3.6.10"
  },
  "varInspector": {
   "cols": {
    "lenName": 16,
    "lenType": 16,
    "lenVar": 40
   },
   "kernels_config": {
    "python": {
     "delete_cmd_postfix": "",
     "delete_cmd_prefix": "del ",
     "library": "var_list.py",
     "varRefreshCmd": "print(var_dic_list())"
    },
    "r": {
     "delete_cmd_postfix": ") ",
     "delete_cmd_prefix": "rm(",
     "library": "var_list.r",
     "varRefreshCmd": "cat(var_dic_list()) "
    }
   },
   "types_to_exclude": [
    "module",
    "function",
    "builtin_function_or_method",
    "instance",
    "_Feature"
   ],
   "window_display": false
  }
 },
 "nbformat": 4,
 "nbformat_minor": 2
}
