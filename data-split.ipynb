{
 "cells": [
  {
   "cell_type": "code",
   "execution_count": 1,
   "metadata": {
    "ExecuteTime": {
     "end_time": "2020-11-24T08:58:17.330409Z",
     "start_time": "2020-11-24T08:58:16.987843Z"
    }
   },
   "outputs": [],
   "source": [
    "import os\n",
    "\n",
    "data_path = 'X-ray/'    # 원본 데이터 경로"
   ]
  },
  {
   "cell_type": "code",
   "execution_count": 2,
   "metadata": {
    "ExecuteTime": {
     "end_time": "2020-11-24T08:58:17.336275Z",
     "start_time": "2020-11-24T08:58:17.332383Z"
    }
   },
   "outputs": [],
   "source": [
    "# 이미지 경로 shuffle\n",
    "\n",
    "import random\n",
    "\n",
    "positive_file_path = data_path + 'COVID/'                # 양성 데이터 경로\n",
    "positive_file_list = os.listdir(positive_file_path)      # 양성 데이터들의 이름 리스트 (ex. ['person1676_virus_2892.jpeg', 'COVID19_109.jpg', ...])\n",
    "random.shuffle(positive_file_list)                       # 리스트 요소들의 순서 shuffle\n",
    "\n",
    "negative_file_path = data_path + 'Non-COVID/'\n",
    "negative_file_list = os.listdir(negative_file_path)\n",
    "random.shuffle(negative_file_list)"
   ]
  },
  {
   "cell_type": "code",
   "execution_count": 3,
   "metadata": {
    "ExecuteTime": {
     "end_time": "2020-11-24T08:58:19.438962Z",
     "start_time": "2020-11-24T08:58:19.368923Z"
    }
   },
   "outputs": [],
   "source": [
    "# preprocessed_image 폴더 초기화\n",
    "\n",
    "import shutil\n",
    "import os\n",
    "\n",
    "save_path = \"data/\"   # 전처리 한 데이터를 저장할 경로\n",
    "\n",
    "# save_path 디렉토리가 이미 존재하면 삭제\n",
    "if os.path.isdir(save_path):\n",
    "    shutil.rmtree(save_path)\n",
    "\n",
    "# 전처리 한 데이터를 저장할 디렉토리 생성\n",
    "os.makedirs(save_path + \"train/COVID/\")\n",
    "os.makedirs(save_path + \"train/Non-COVID/\")\n",
    "os.makedirs(save_path + \"test/COVID/\")\n",
    "os.makedirs(save_path + \"test/Non-COVID/\")"
   ]
  },
  {
   "cell_type": "code",
   "execution_count": 4,
   "metadata": {
    "ExecuteTime": {
     "end_time": "2020-11-24T08:59:01.976198Z",
     "start_time": "2020-11-24T08:58:19.440732Z"
    }
   },
   "outputs": [],
   "source": [
    "# image split\n",
    "\n",
    "for image_name in positive_file_list[:int(len(positive_file_list) * 0.8)]:                   # positive 데이터의 80%를 train에 분류하여 저장\n",
    "    shutil.copy(positive_file_path + image_name, save_path + \"train/COVID/\" + image_name)    # 이미지 복사\n",
    "    \n",
    "for image_name in negative_file_list[:int(len(negative_file_list) * 0.8)]:\n",
    "    shutil.copy(negative_file_path + image_name, save_path + \"train/Non-COVID/\" + image_name)\n",
    "\n",
    "for image_name in positive_file_list[:int(len(positive_file_list) * 0.2)]:\n",
    "    shutil.copy(positive_file_path + image_name, save_path + \"test/COVID/\" + image_name)\n",
    "    \n",
    "for image_name in negative_file_list[:int(len(negative_file_list) * 0.2)]:\n",
    "    shutil.copy(negative_file_path + image_name, save_path + \"test/Non-COVID/\" + image_name)"
   ]
  },
  {
   "cell_type": "code",
   "execution_count": null,
   "metadata": {},
   "outputs": [],
   "source": []
  }
 ],
 "metadata": {
  "kernelspec": {
   "display_name": "Python 3",
   "language": "python",
   "name": "python3"
  },
  "language_info": {
   "codemirror_mode": {
    "name": "ipython",
    "version": 3
   },
   "file_extension": ".py",
   "mimetype": "text/x-python",
   "name": "python",
   "nbconvert_exporter": "python",
   "pygments_lexer": "ipython3",
   "version": "3.6.10"
  },
  "varInspector": {
   "cols": {
    "lenName": 16,
    "lenType": 16,
    "lenVar": 40
   },
   "kernels_config": {
    "python": {
     "delete_cmd_postfix": "",
     "delete_cmd_prefix": "del ",
     "library": "var_list.py",
     "varRefreshCmd": "print(var_dic_list())"
    },
    "r": {
     "delete_cmd_postfix": ") ",
     "delete_cmd_prefix": "rm(",
     "library": "var_list.r",
     "varRefreshCmd": "cat(var_dic_list()) "
    }
   },
   "types_to_exclude": [
    "module",
    "function",
    "builtin_function_or_method",
    "instance",
    "_Feature"
   ],
   "window_display": false
  }
 },
 "nbformat": 4,
 "nbformat_minor": 2
}
