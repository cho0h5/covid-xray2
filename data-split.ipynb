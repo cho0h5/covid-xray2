{
 "cells": [
  {
   "cell_type": "code",
   "execution_count": 1,
   "metadata": {
    "ExecuteTime": {
     "end_time": "2020-11-24T08:58:17.330409Z",
     "start_time": "2020-11-24T08:58:16.987843Z"
    }
   },
   "outputs": [],
   "source": [
    "import os\n",
    "\n",
    "data_path = 'archive/Coronahack-Chest-XRay-Dataset/Coronahack-Chest-XRay-Dataset/'"
   ]
  },
  {
   "cell_type": "code",
   "execution_count": 2,
   "metadata": {},
   "outputs": [
    {
     "name": "stdout",
     "output_type": "stream",
     "text": [
      "total train: 5286\n",
      "total test: 624\n",
      "\n",
      "train pneumonia: 3944\n",
      "train normal: 1342\n",
      "test pneumonia: 390\n",
      "test normal: 234\n"
     ]
    }
   ],
   "source": [
    "import pandas as pd\n",
    "\n",
    "df = pd.read_csv('archive/Chest_xray_Corona_Metadata.csv')\n",
    "# print(df.head())\n",
    "\n",
    "train_df = df[df.Dataset_type=='TRAIN']\n",
    "print(\"total train:\", len(train_df))\n",
    "# print(train_df.head())\n",
    "test_df = df[df.Dataset_type=='TEST']\n",
    "print(\"total test:\", len(test_df))\n",
    "# print(test_df.head())\n",
    "\n",
    "print()\n",
    "\n",
    "train_pneumonia_df = train_df[train_df.Label==\"Pnemonia\"]\n",
    "train_normal_df = train_df[train_df.Label==\"Normal\"]\n",
    "test_pneumonia_df = test_df[test_df.Label==\"Pnemonia\"]\n",
    "test_normal_df = test_df[test_df.Label==\"Normal\"]\n",
    "print(\"train pneumonia:\", len(train_pneumonia_df))\n",
    "print(\"train normal:\", len(train_normal_df))\n",
    "print(\"test pneumonia:\", len(test_pneumonia_df))\n",
    "print(\"test normal:\", len(test_normal_df))"
   ]
  },
  {
   "cell_type": "code",
   "execution_count": 3,
   "metadata": {
    "ExecuteTime": {
     "end_time": "2020-11-24T08:58:17.336275Z",
     "start_time": "2020-11-24T08:58:17.332383Z"
    }
   },
   "outputs": [
    {
     "name": "stdout",
     "output_type": "stream",
     "text": [
      "train pneumonia: 3944\n",
      "train normal: 1342\n",
      "test pneumonia: 390\n",
      "test normal: 234\n"
     ]
    }
   ],
   "source": [
    "train_pneumonia = train_pneumonia_df.X_ray_image_name.values.tolist()\n",
    "train_normal = train_normal_df.X_ray_image_name.values.tolist()\n",
    "test_pneumonia = test_pneumonia_df.X_ray_image_name.values.tolist()\n",
    "test_normal = test_normal_df.X_ray_image_name.values.tolist()\n",
    "print(\"train pneumonia:\", len(train_pneumonia))\n",
    "print(\"train normal:\", len(train_normal))\n",
    "print(\"test pneumonia:\", len(test_pneumonia))\n",
    "print(\"test normal:\", len(test_normal))"
   ]
  },
  {
   "cell_type": "code",
   "execution_count": 4,
   "metadata": {
    "ExecuteTime": {
     "end_time": "2020-11-24T08:58:19.438962Z",
     "start_time": "2020-11-24T08:58:19.368923Z"
    }
   },
   "outputs": [
    {
     "name": "stdout",
     "output_type": "stream",
     "text": [
      "remove directory\n",
      "make new directory\n"
     ]
    }
   ],
   "source": [
    "# preprocessed_image 폴더 초기화\n",
    "\n",
    "import shutil\n",
    "import os\n",
    "\n",
    "save_path = \"data/\"\n",
    " \n",
    "try:\n",
    "    if os.path.isdir(save_path):\n",
    "        shutil.rmtree(save_path)\n",
    "        print(\"remove directory\")\n",
    "        \n",
    "    os.makedirs(save_path + \"train/pneumonia/\")\n",
    "    os.makedirs(save_path + \"train/normal/\")\n",
    "    os.makedirs(save_path + \"test/pneumonia/\")\n",
    "    os.makedirs(save_path + \"test/normal/\")\n",
    "    print(\"make new directory\")\n",
    "    \n",
    "except OSError as e:\n",
    "    print(e)\n",
    "    raise"
   ]
  },
  {
   "cell_type": "code",
   "execution_count": 5,
   "metadata": {
    "ExecuteTime": {
     "end_time": "2020-11-24T08:59:01.976198Z",
     "start_time": "2020-11-24T08:58:19.440732Z"
    }
   },
   "outputs": [],
   "source": [
    "# 모든 이미지 전처리하여 preprocessed_data/ 폴더에 저장\n",
    "train_file_path = data_path + \"train/\"\n",
    "test_file_path = data_path + \"test/\"\n",
    "\n",
    "for image_name in train_pneumonia:\n",
    "    shutil.copy(train_file_path + image_name, save_path + \"train/pneumonia/\" + image_name)\n",
    "    \n",
    "for image_name in train_normal:\n",
    "    shutil.copy(train_file_path + image_name, save_path + \"train/normal/\" + image_name)\n",
    "\n",
    "for image_name in test_pneumonia:\n",
    "    shutil.copy(test_file_path + image_name, save_path + \"test/pneumonia/\" + image_name)\n",
    "    \n",
    "for image_name in test_normal:\n",
    "    shutil.copy(test_file_path + image_name, save_path + \"test/normal/\" + image_name)"
   ]
  },
  {
   "cell_type": "code",
   "execution_count": null,
   "metadata": {},
   "outputs": [],
   "source": []
  }
 ],
 "metadata": {
  "kernelspec": {
   "display_name": "Python 3",
   "language": "python",
   "name": "python3"
  },
  "language_info": {
   "codemirror_mode": {
    "name": "ipython",
    "version": 3
   },
   "file_extension": ".py",
   "mimetype": "text/x-python",
   "name": "python",
   "nbconvert_exporter": "python",
   "pygments_lexer": "ipython3",
   "version": "3.6.10"
  },
  "varInspector": {
   "cols": {
    "lenName": 16,
    "lenType": 16,
    "lenVar": 40
   },
   "kernels_config": {
    "python": {
     "delete_cmd_postfix": "",
     "delete_cmd_prefix": "del ",
     "library": "var_list.py",
     "varRefreshCmd": "print(var_dic_list())"
    },
    "r": {
     "delete_cmd_postfix": ") ",
     "delete_cmd_prefix": "rm(",
     "library": "var_list.r",
     "varRefreshCmd": "cat(var_dic_list()) "
    }
   },
   "types_to_exclude": [
    "module",
    "function",
    "builtin_function_or_method",
    "instance",
    "_Feature"
   ],
   "window_display": false
  }
 },
 "nbformat": 4,
 "nbformat_minor": 2
}
